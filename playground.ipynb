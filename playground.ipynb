{
 "cells": [
  {
   "cell_type": "code",
   "execution_count": 2,
   "metadata": {},
   "outputs": [
    {
     "name": "stderr",
     "output_type": "stream",
     "text": [
      "2022-10-17 19:03:04.686092: I tensorflow/core/platform/cpu_feature_guard.cc:193] This TensorFlow binary is optimized with oneAPI Deep Neural Network Library (oneDNN) to use the following CPU instructions in performance-critical operations:  AVX2 AVX512F AVX512_VNNI FMA\n",
      "To enable them in other operations, rebuild TensorFlow with the appropriate compiler flags.\n",
      "2022-10-17 19:03:04.821362: I tensorflow/core/util/util.cc:169] oneDNN custom operations are on. You may see slightly different numerical results due to floating-point round-off errors from different computation orders. To turn them off, set the environment variable `TF_ENABLE_ONEDNN_OPTS=0`.\n",
      "2022-10-17 19:03:04.827619: W tensorflow/stream_executor/platform/default/dso_loader.cc:64] Could not load dynamic library 'libcudart.so.11.0'; dlerror: libcudart.so.11.0: cannot open shared object file: No such file or directory\n",
      "2022-10-17 19:03:04.827635: I tensorflow/stream_executor/cuda/cudart_stub.cc:29] Ignore above cudart dlerror if you do not have a GPU set up on your machine.\n",
      "2022-10-17 19:03:04.859520: E tensorflow/stream_executor/cuda/cuda_blas.cc:2981] Unable to register cuBLAS factory: Attempting to register factory for plugin cuBLAS when one has already been registered\n",
      "2022-10-17 19:03:06.204155: W tensorflow/stream_executor/platform/default/dso_loader.cc:64] Could not load dynamic library 'libnvinfer.so.7'; dlerror: libnvinfer.so.7: cannot open shared object file: No such file or directory\n",
      "2022-10-17 19:03:06.204495: W tensorflow/stream_executor/platform/default/dso_loader.cc:64] Could not load dynamic library 'libnvinfer_plugin.so.7'; dlerror: libnvinfer_plugin.so.7: cannot open shared object file: No such file or directory\n",
      "2022-10-17 19:03:06.204505: W tensorflow/compiler/tf2tensorrt/utils/py_utils.cc:38] TF-TRT Warning: Cannot dlopen some TensorRT libraries. If you would like to use Nvidia GPU with TensorRT, please make sure the missing libraries mentioned above are installed properly.\n"
     ]
    }
   ],
   "source": [
    "import utils.datasets\n",
    "\n",
    "# import util.datasets\n",
    "import tensorflow as tf\n",
    "import numpy as np\n",
    "import matplotlib.pyplot as plt\n",
    "import os"
   ]
  },
  {
   "cell_type": "code",
   "execution_count": null,
   "metadata": {},
   "outputs": [
    {
     "name": "stdout",
     "output_type": "stream",
     "text": [
      "loaded using cache file\n"
     ]
    }
   ],
   "source": [
    "train, test = utils.datasets.pascal_voc_detection(os.path.normpath(\"/home/FYP/wang1570/datasets/pascal-voc-2012/VOCdevkit/VOC2012\")).load()"
   ]
  },
  {
   "cell_type": "code",
   "execution_count": null,
   "metadata": {},
   "outputs": [
    {
     "name": "stderr",
     "output_type": "stream",
     "text": [
      "2022-10-14 16:29:56.040857: W tensorflow/stream_executor/platform/default/dso_loader.cc:64] Could not load dynamic library 'libcuda.so.1'; dlerror: libcuda.so.1: cannot open shared object file: No such file or directory\n",
      "2022-10-14 16:29:56.040898: W tensorflow/stream_executor/cuda/cuda_driver.cc:263] failed call to cuInit: UNKNOWN ERROR (303)\n",
      "2022-10-14 16:29:56.040941: I tensorflow/stream_executor/cuda/cuda_diagnostics.cc:156] kernel driver does not appear to be running on this host (SCSEGPU-TC1): /proc/driver/nvidia/version does not exist\n",
      "2022-10-14 16:29:56.041320: I tensorflow/core/platform/cpu_feature_guard.cc:193] This TensorFlow binary is optimized with oneAPI Deep Neural Network Library (oneDNN) to use the following CPU instructions in performance-critical operations:  AVX2 AVX512F AVX512_VNNI FMA\n",
      "To enable them in other operations, rebuild TensorFlow with the appropriate compiler flags.\n"
     ]
    }
   ],
   "source": [
    "from easydict import EasyDict as edict\n",
    "import numpy as np\n",
    "import tensorflow as tf\n",
    "\n",
    "# pascal voc 2012\n",
    "pascal_voc_2012 = edict()\n",
    "pascal_voc_2012.classes = ['__background__', 'aeroplane', 'bicycle', 'bird', 'boat', 'bottle', 'bus', 'car', 'cat',\n",
    "                    'chair', 'cow', 'diningtable', 'dog', 'horse', 'motorbike', 'person', 'pottedplant',\n",
    "                    'sheep', 'sofa', 'train', 'tvmonitor']\n",
    "pascal_voc_2012.pixel_means = np.array([[[102.9801, 115.9465, 122.7717]]])\n",
    "pascal_voc_2012.max_size = 1000\n",
    "pascal_voc_2012.min_size = 600\n",
    "\n",
    "# vgg16\n",
    "vgg16 = edict()\n",
    "vgg16.feature_stride = 16 # when input size = 224, output = 14, strive = 224/14\n",
    "\n",
    "# anchor\n",
    "anchors = edict()\n",
    "anchors.ratios = np.array([0.5, 1, 2])\n",
    "anchors.scales = np.array([8, 16, 32])\n",
    "anchors.num = len(anchors.ratios) * len(anchors.scales) # 1 anchor for each combination\n",
    "\n",
    "# region proposal network\n",
    "rpn = edict()\n",
    "rpn.rpn_chan = 512\n",
    "\n",
    "# arch\n",
    "frcnn = edict()\n",
    "frcnn.use_bias = False\n",
    "frcnn.regulizer = None\n",
    "frcnn.initializer = tf.keras.initializers.RandomNormal(stddev=0.01)\n",
    "frcnn.backbone = tf.keras.applications.vgg16.VGG16(False, None)\n",
    "frcnn.nms = edict()\n",
    "frcnn.nms.output_size = 2000\n",
    "frcnn.nms.iou = 0.7\n",
    "\n",
    "# overall\n",
    "cfg = edict()\n",
    "cfg.db = pascal_voc_2012\n",
    "cfg.backbone = vgg16\n",
    "cfg.anchors = anchors\n",
    "cfg.frcnn = frcnn\n"
   ]
  },
  {
   "cell_type": "code",
   "execution_count": null,
   "metadata": {},
   "outputs": [],
   "source": [
    "class proposal_layer(tf.keras.layers.Layer):\n",
    "  def __init__(self, name = \"proposal_layer\"):\n",
    "    super().__init__(name = \"proposal_layer\")\n",
    "    self.rpn_cls_score_conv = tf.keras.layers.Conv2D(cfg.anchors.num * 2, kernel_size=(1, 1), padding='same', use_bias=cfg.frcnn.use_bias, kernel_initializer=cfg.frcnn.initializer, kernel_regularizer=cfg.frcnn.regulizer)\n",
    "    self.rpn_cls_prob_softmax = tf.keras.layers.Softmax()\n",
    "    self.rpn_bbox_pred_conv = tf.keras.layers.Conv2D(cfg.anchors.num * 4,kernel_size=(1, 1), padding='same',  use_bias=cfg.frcnn.use_bias, kernel_initializer=cfg.frcnn.initializer, kernel_regularizer=cfg.frcnn.regulizer)\n",
    "\n",
    "  def call(self, rpn_features, anchors, img_sz):\n",
    "    rpn_cls_score = self.rpn_cls_score_conv(rpn_features)\n",
    "    rpn_cls_score_reshape = tf.reshape(rpn_cls_score, (-1, 2))\n",
    "    rpn_cls_prob = self.rpn_cls_prob_softmax(rpn_cls_score_reshape)\n",
    "    rpn_cls_pred = tf.argmax(rpn_cls_prob, axis = -1)\n",
    "    rpn_cls_prob = tf.reshape(rpn_cls_prob, tf.shape(rpn_cls_score))\n",
    "\n",
    "    rpn_bbox_pred = self.rpn_bbox_pred_conv(rpn_features)\n",
    "    rpn_bbox_pred = tf.reshape(rpn_bbox_pred, (-1, 4))\n",
    "\n",
    "    rpn_cls_prob_fgrd = rpn_cls_prob[:, :, :, cfg.anchors.num:]\n",
    "    rpn_cls_prob_fgrd = tf.reshape(rpn_cls_prob_fgrd, (-1, ))\n",
    "\n",
    "    anchor_preds = self.convert_and_clip(anchors, rpn_bbox_pred, img_sz)\n",
    "\n",
    "    proposal_ids = tf.image.non_max_suppression(anchor_preds, rpn_cls_prob_fgrd, max_output_size=cfg.frcnn.nms.output_size, iou_threshold=cfg.frcnn.nms.iou)\n",
    "\n",
    "    proposals = anchor_preds[proposal_ids]\n",
    "    proposal_scores = rpn_cls_prob_fgrd[proposal_ids]\n",
    "\n",
    "    return proposals, proposal_scores"
   ]
  },
  {
   "cell_type": "code",
   "execution_count": null,
   "metadata": {},
   "outputs": [],
   "source": [
    "a = proposal_layer()"
   ]
  },
  {
   "cell_type": "code",
   "execution_count": null,
   "metadata": {},
   "outputs": [
    {
     "data": {
      "text/plain": [
       "'proposal_layer'"
      ]
     },
     "execution_count": 9,
     "metadata": {},
     "output_type": "execute_result"
    }
   ],
   "source": [
    "a.name"
   ]
  },
  {
   "cell_type": "code",
   "execution_count": null,
   "metadata": {},
   "outputs": [],
   "source": [
    "a = tf.range(50)"
   ]
  },
  {
   "cell_type": "code",
   "execution_count": null,
   "metadata": {},
   "outputs": [],
   "source": [
    "a = tf.reshape(a, (5, 5, 2))"
   ]
  },
  {
   "cell_type": "code",
   "execution_count": null,
   "metadata": {},
   "outputs": [],
   "source": [
    "a = tf.random.uniform((5, 5, 2))"
   ]
  },
  {
   "cell_type": "code",
   "execution_count": null,
   "metadata": {},
   "outputs": [
    {
     "data": {
      "text/plain": [
       "<tf.Tensor: shape=(25, 2), dtype=float32, numpy=\n",
       "array([[0.717497  , 0.04890013],\n",
       "       [0.16746831, 0.626809  ],\n",
       "       [0.40473008, 0.82172346],\n",
       "       [0.60019577, 0.7794467 ],\n",
       "       [0.17423964, 0.98111546],\n",
       "       [0.5856674 , 0.45322704],\n",
       "       [0.3817389 , 0.12977862],\n",
       "       [0.9745786 , 0.30084693],\n",
       "       [0.454031  , 0.7016636 ],\n",
       "       [0.03043282, 0.0470978 ],\n",
       "       [0.08154368, 0.60092425],\n",
       "       [0.205073  , 0.49768186],\n",
       "       [0.6479666 , 0.09068   ],\n",
       "       [0.28856456, 0.00207877],\n",
       "       [0.7204088 , 0.03900468],\n",
       "       [0.80403876, 0.6167313 ],\n",
       "       [0.81875885, 0.8785411 ],\n",
       "       [0.96998656, 0.39076102],\n",
       "       [0.597306  , 0.37829578],\n",
       "       [0.14391887, 0.1101414 ],\n",
       "       [0.12568688, 0.9189284 ],\n",
       "       [0.3242582 , 0.74013686],\n",
       "       [0.06414032, 0.52793026],\n",
       "       [0.9763073 , 0.15707576],\n",
       "       [0.6634358 , 0.40364373]], dtype=float32)>"
      ]
     },
     "execution_count": 174,
     "metadata": {},
     "output_type": "execute_result"
    }
   ],
   "source": [
    "b = tf.reshape(a, (-1, 2))\n",
    "b = tf.cast(b, dtype = 'float')\n",
    "b"
   ]
  },
  {
   "cell_type": "code",
   "execution_count": null,
   "metadata": {},
   "outputs": [],
   "source": [
    "sfx = tf.keras.layers.Softmax()"
   ]
  },
  {
   "cell_type": "code",
   "execution_count": null,
   "metadata": {},
   "outputs": [],
   "source": [
    "c = sfx(b)"
   ]
  },
  {
   "cell_type": "code",
   "execution_count": null,
   "metadata": {},
   "outputs": [],
   "source": [
    "b = sfx(b)"
   ]
  },
  {
   "cell_type": "code",
   "execution_count": 6,
   "metadata": {},
   "outputs": [],
   "source": [
    "def get_area(boxes):\n",
    "  x0, y0, x1, y1 = tf.split(value=boxes, num_or_size_splits=4, axis=1)\n",
    "  return tf.reshape((x1 - x0 + 1) * (y1 - y0 + 1), (-1, 1))\n",
    "  \n",
    "def get_intersection(boxes1, boxes2):\n",
    "  x0_1, y0_1, x1_1, y1_1 = tf.split(value=boxes1, num_or_size_splits=4, axis=1)\n",
    "  x0_2, y0_2, x1_2, y1_2 = tf.split(value=boxes2, num_or_size_splits=4, axis=1)\n",
    "  max_x0 = tf.maximum(x0_1, tf.transpose(x0_2))\n",
    "  max_y0 = tf.maximum(y0_1, tf.transpose(y0_2))\n",
    "  min_x1 = tf.minimum(x1_1, tf.transpose(x1_2))\n",
    "  min_y1 = tf.minimum(y1_1, tf.transpose(y1_2))\n",
    "  height = tf.maximum(0, min_x1 - max_x0 + 1)\n",
    "  width = tf.maximum(0, min_y1 - max_y0 + 1)\n",
    "  return height * width\n",
    "\n",
    "def get_overlap(anchors, gt_boxes):\n",
    "  anchor_area = get_area(anchors)\n",
    "  gt_boxes_area = get_area(gt_boxes)\n",
    "  intersection = get_intersection(anchors, gt_boxes)\n",
    "  union = anchor_area + tf.reshape(gt_boxes_area, (1, -1)) - intersection\n",
    "  return intersection / union"
   ]
  },
  {
   "cell_type": "code",
   "execution_count": 7,
   "metadata": {},
   "outputs": [],
   "source": [
    "anchors = tf.Variable( \n",
    "  [[1, 1, 2 ,2],\n",
    "  [0, 0, 1, 1],\n",
    "  [0, 0, 0, 0],\n",
    "  [1, 1, 2 ,2],\n",
    "  [3, 3, 4, 4]],\n",
    "dtype = float)\n",
    "gt_boxes = tf.Variable(\n",
    "  [[1, 1, 2, 2],\n",
    "  [1, 1, 2, 2],\n",
    "  [0, 0, 1, 1]]\n",
    ", dtype = float)\n",
    "overlaps = get_overlap(anchors, gt_boxes)\n",
    "labels = tf.zeros(anchors.shape[0], dtype = 'float')\n",
    "labels -= 1"
   ]
  },
  {
   "cell_type": "code",
   "execution_count": 8,
   "metadata": {},
   "outputs": [],
   "source": [
    "argmax_overlaps = tf.cast(tf.argmax(overlaps, axis=1), dtype=tf.int32)\n",
    "argmax_gather_nd_inds = tf.stack([tf.range(tf.shape(overlaps)[0]), argmax_overlaps], axis=1)\n",
    "max_overlaps = tf.gather_nd(overlaps, argmax_gather_nd_inds)\n",
    "\n",
    "gt_argmax_overlaps = tf.cast(tf.argmax(overlaps, axis=0), dtype=tf.int32)\n",
    "max_overlaps_gather_nd_inds = tf.stack([gt_argmax_overlaps, tf.range(tf.shape(overlaps)[1])], axis=1)\n",
    "gt_max_overlaps = tf.gather_nd(overlaps, max_overlaps_gather_nd_inds)\n",
    "gt_argmax_overlaps = tf.where(overlaps == gt_max_overlaps)[:, 0]"
   ]
  },
  {
   "cell_type": "code",
   "execution_count": 9,
   "metadata": {},
   "outputs": [],
   "source": [
    "unique_gt_argmax_overlaps = tf.unique(gt_argmax_overlaps)[0]\n",
    "highest_fg_label = tf.ones(unique_gt_argmax_overlaps.shape)\n",
    "highest_gt_row_ids_expand_dim = tf.expand_dims(unique_gt_argmax_overlaps, axis=1)\n",
    "labels = tf.where(max_overlaps < 0.3, tf.zeros_like(labels, dtype = 'float'), labels)\n",
    "labels = tf.where(max_overlaps >= 0.7, tf.ones_like(labels, dtype = 'float'), labels)\n",
    "labels = tf.tensor_scatter_nd_update(labels, highest_gt_row_ids_expand_dim, highest_fg_label)"
   ]
  },
  {
   "cell_type": "code",
   "execution_count": 13,
   "metadata": {},
   "outputs": [],
   "source": [
    "num_fg = int(0.5 * 4)\n",
    "fg_inds = tf.reshape(tf.where(labels == 1), shape=(-1,))\n",
    "fg_inds_num = tf.shape(fg_inds)[0]"
   ]
  },
  {
   "cell_type": "code",
   "execution_count": 15,
   "metadata": {},
   "outputs": [
    {
     "data": {
      "text/plain": [
       "(<tf.Tensor: shape=(3,), dtype=int64, numpy=array([0, 1, 3])>,\n",
       " <tf.Tensor: shape=(), dtype=int32, numpy=3>)"
      ]
     },
     "execution_count": 15,
     "metadata": {},
     "output_type": "execute_result"
    }
   ],
   "source": [
    "fg_inds, fg_inds_num"
   ]
  },
  {
   "cell_type": "code",
   "execution_count": 16,
   "metadata": {},
   "outputs": [],
   "source": [
    "fg_flag = tf.cast(fg_inds_num > num_fg, dtype=tf.float32)"
   ]
  },
  {
   "cell_type": "code",
   "execution_count": 17,
   "metadata": {},
   "outputs": [
    {
     "data": {
      "text/plain": [
       "<tf.Tensor: shape=(), dtype=float32, numpy=1.0>"
      ]
     },
     "execution_count": 17,
     "metadata": {},
     "output_type": "execute_result"
    }
   ],
   "source": [
    "fg_flag"
   ]
  },
  {
   "cell_type": "code",
   "execution_count": 27,
   "metadata": {},
   "outputs": [],
   "source": [
    "a = tf.Variable([1, 2, 3, 4])"
   ]
  },
  {
   "cell_type": "code",
   "execution_count": 28,
   "metadata": {},
   "outputs": [
    {
     "data": {
      "text/plain": [
       "<tf.Variable 'Variable:0' shape=(4,) dtype=int32, numpy=array([1, 2, 3, 4], dtype=int32)>"
      ]
     },
     "execution_count": 28,
     "metadata": {},
     "output_type": "execute_result"
    }
   ],
   "source": [
    "a"
   ]
  },
  {
   "cell_type": "code",
   "execution_count": 29,
   "metadata": {},
   "outputs": [],
   "source": [
    "b = a[1 : 2]"
   ]
  },
  {
   "cell_type": "code",
   "execution_count": 33,
   "metadata": {},
   "outputs": [],
   "source": [
    "c = a * 10"
   ]
  },
  {
   "cell_type": "code",
   "execution_count": 34,
   "metadata": {},
   "outputs": [
    {
     "data": {
      "text/plain": [
       "<tf.Tensor: shape=(4,), dtype=int32, numpy=array([10, 20, 30, 40], dtype=int32)>"
      ]
     },
     "execution_count": 34,
     "metadata": {},
     "output_type": "execute_result"
    }
   ],
   "source": [
    "c"
   ]
  },
  {
   "cell_type": "code",
   "execution_count": 35,
   "metadata": {},
   "outputs": [],
   "source": [
    "a = tf.random.uniform((10, 4))"
   ]
  },
  {
   "cell_type": "code",
   "execution_count": 39,
   "metadata": {},
   "outputs": [],
   "source": [
    "x0, y0, x1, y1 = tf.split(a, 4, axis = 1)"
   ]
  },
  {
   "cell_type": "code",
   "execution_count": 44,
   "metadata": {},
   "outputs": [
    {
     "data": {
      "text/plain": [
       "<tf.Tensor: shape=(10, 1), dtype=float32, numpy=\n",
       "array([[0.05842113],\n",
       "       [0.28271675],\n",
       "       [0.05620921],\n",
       "       [0.57703745],\n",
       "       [0.61593354],\n",
       "       [0.24065948],\n",
       "       [0.37477183],\n",
       "       [0.5346147 ],\n",
       "       [0.71934605],\n",
       "       [0.86064816]], dtype=float32)>"
      ]
     },
     "execution_count": 44,
     "metadata": {},
     "output_type": "execute_result"
    }
   ],
   "source": [
    "x0"
   ]
  },
  {
   "cell_type": "code",
   "execution_count": 46,
   "metadata": {},
   "outputs": [],
   "source": [
    "a = tf.constant([1, 2, 3])"
   ]
  },
  {
   "cell_type": "code",
   "execution_count": 47,
   "metadata": {},
   "outputs": [
    {
     "data": {
      "text/plain": [
       "<tf.Tensor: shape=(3, 1), dtype=int32, numpy=\n",
       "array([[1],\n",
       "       [2],\n",
       "       [3]], dtype=int32)>"
      ]
     },
     "execution_count": 47,
     "metadata": {},
     "output_type": "execute_result"
    }
   ],
   "source": [
    "tf.expand_dims(a, axis = 1)"
   ]
  },
  {
   "cell_type": "code",
   "execution_count": 48,
   "metadata": {},
   "outputs": [
    {
     "data": {
      "text/plain": [
       "<tf.Tensor: shape=(9, 9), dtype=int32, numpy=\n",
       "array([[10, 10, 10, 10, 10, 10, 10, 10, 10],\n",
       "       [10, 10, 10, 10, 10, 10, 10, 10, 10],\n",
       "       [10, 10, 10, 10, 10, 10, 10, 10, 10],\n",
       "       [10, 10, 10, 10, 10, 10, 10, 10, 10],\n",
       "       [10, 10, 10, 10, 10, 10, 10, 10, 10],\n",
       "       [10, 10, 10, 10, 10, 10, 10, 10, 10],\n",
       "       [10, 10, 10, 10, 10, 10, 10, 10, 10],\n",
       "       [10, 10, 10, 10, 10, 10, 10, 10, 10],\n",
       "       [10, 10, 10, 10, 10, 10, 10, 10, 10]], dtype=int32)>"
      ]
     },
     "execution_count": 48,
     "metadata": {},
     "output_type": "execute_result"
    }
   ],
   "source": [
    "tf.fill((9, 9), 10)"
   ]
  },
  {
   "cell_type": "code",
   "execution_count": null,
   "metadata": {},
   "outputs": [],
   "source": []
  }
 ],
 "metadata": {
  "kernelspec": {
   "display_name": "Python 3.7.13 ('train')",
   "language": "python",
   "name": "python3"
  },
  "language_info": {
   "codemirror_mode": {
    "name": "ipython",
    "version": 3
   },
   "file_extension": ".py",
   "mimetype": "text/x-python",
   "name": "python",
   "nbconvert_exporter": "python",
   "pygments_lexer": "ipython3",
   "version": "3.7.13"
  },
  "orig_nbformat": 4,
  "vscode": {
   "interpreter": {
    "hash": "c61a80af65bb0e50d4234ab3d23556985f2f332756f22edbe20e77a4c1102a7c"
   }
  }
 },
 "nbformat": 4,
 "nbformat_minor": 2
}
